{
 "cells": [
  {
   "cell_type": "markdown",
   "id": "149155b6",
   "metadata": {},
   "source": [
    "# IR Assignment-5\n",
    "\n",
    "## Implement Agglomerative hierarchical clustering algorithm using appropriate dataset."
   ]
  },
  {
   "cell_type": "markdown",
   "id": "51388af5",
   "metadata": {},
   "source": [
    "# Importing Libraries"
   ]
  },
  {
   "cell_type": "code",
   "execution_count": 9,
   "id": "b8fb3563",
   "metadata": {},
   "outputs": [],
   "source": [
    "import numpy as np\n",
    "import pandas as pd\n",
    "import matplotlib.pyplot as plt\n",
    "from sklearn.datasets import load_iris\n",
    "from sklearn.cluster import AgglomerativeClustering\n",
    "from scipy.cluster.hierarchy import dendrogram, linkage"
   ]
  },
  {
   "cell_type": "markdown",
   "id": "bd36e69a",
   "metadata": {},
   "source": [
    "# Load the Iris dataset"
   ]
  },
  {
   "cell_type": "code",
   "execution_count": 10,
   "id": "4279f11a",
   "metadata": {},
   "outputs": [],
   "source": [
    "iris = load_iris()\n",
    "X = iris.data  # Features\n",
    "y = iris.target  # Ground truth labels"
   ]
  },
  {
   "cell_type": "markdown",
   "id": "7550e6ea",
   "metadata": {},
   "source": [
    "# Convert the dataset into a DataFrame for better visualization"
   ]
  },
  {
   "cell_type": "code",
   "execution_count": 11,
   "id": "5e4e2be7",
   "metadata": {},
   "outputs": [
    {
     "name": "stdout",
     "output_type": "stream",
     "text": [
      "   sepal length (cm)  sepal width (cm)  petal length (cm)  petal width (cm)  \\\n",
      "0                5.1               3.5                1.4               0.2   \n",
      "1                4.9               3.0                1.4               0.2   \n",
      "2                4.7               3.2                1.3               0.2   \n",
      "3                4.6               3.1                1.5               0.2   \n",
      "4                5.0               3.6                1.4               0.2   \n",
      "\n",
      "   target  \n",
      "0     0.0  \n",
      "1     0.0  \n",
      "2     0.0  \n",
      "3     0.0  \n",
      "4     0.0  \n"
     ]
    }
   ],
   "source": [
    "iris_df = pd.DataFrame(data=np.c_[iris['data'], iris['target']],\n",
    "                       columns=iris['feature_names'] + ['target'])\n",
    "print(iris_df.head())"
   ]
  },
  {
   "cell_type": "markdown",
   "id": "f0b59f86",
   "metadata": {},
   "source": [
    "# Perform hierarchical clustering using AgglomerativeClustering"
   ]
  },
  {
   "cell_type": "code",
   "execution_count": 12,
   "id": "577714cf",
   "metadata": {},
   "outputs": [
    {
     "data": {
      "text/plain": [
       "AgglomerativeClustering(n_clusters=3)"
      ]
     },
     "execution_count": 12,
     "metadata": {},
     "output_type": "execute_result"
    }
   ],
   "source": [
    "n_clusters = 3\n",
    "agg_cluster = AgglomerativeClustering(n_clusters=n_clusters)\n",
    "# Fit the clustering model to the data\n",
    "agg_cluster.fit(X)"
   ]
  },
  {
   "cell_type": "markdown",
   "id": "ac48259b",
   "metadata": {},
   "source": [
    "# Calculate linkage matrix for hierarchical clustering"
   ]
  },
  {
   "cell_type": "code",
   "execution_count": 13,
   "id": "85d2f1c4",
   "metadata": {},
   "outputs": [
    {
     "data": {
      "text/plain": [
       "array([[1.01000000e+02, 1.42000000e+02, 0.00000000e+00, 2.00000000e+00],\n",
       "       [7.00000000e+00, 3.90000000e+01, 1.00000000e-01, 2.00000000e+00],\n",
       "       [0.00000000e+00, 1.70000000e+01, 1.00000000e-01, 2.00000000e+00],\n",
       "       [9.00000000e+00, 3.40000000e+01, 1.00000000e-01, 2.00000000e+00],\n",
       "       [1.28000000e+02, 1.32000000e+02, 1.00000000e-01, 2.00000000e+00],\n",
       "       [1.00000000e+01, 4.80000000e+01, 1.00000000e-01, 2.00000000e+00],\n",
       "       [4.00000000e+00, 3.70000000e+01, 1.41421356e-01, 2.00000000e+00],\n",
       "       [1.90000000e+01, 2.10000000e+01, 1.41421356e-01, 2.00000000e+00],\n",
       "       [2.90000000e+01, 3.00000000e+01, 1.41421356e-01, 2.00000000e+00],\n",
       "       [5.70000000e+01, 9.30000000e+01, 1.41421356e-01, 2.00000000e+00],\n",
       "       [8.00000000e+01, 8.10000000e+01, 1.41421356e-01, 2.00000000e+00],\n",
       "       [1.16000000e+02, 1.37000000e+02, 1.41421356e-01, 2.00000000e+00],\n",
       "       [8.00000000e+00, 3.80000000e+01, 1.41421356e-01, 2.00000000e+00],\n",
       "       [3.00000000e+00, 4.70000000e+01, 1.41421356e-01, 2.00000000e+00],\n",
       "       [2.70000000e+01, 2.80000000e+01, 1.41421356e-01, 2.00000000e+00],\n",
       "       [8.20000000e+01, 9.20000000e+01, 1.41421356e-01, 2.00000000e+00],\n",
       "       [9.50000000e+01, 9.60000000e+01, 1.41421356e-01, 2.00000000e+00],\n",
       "       [1.27000000e+02, 1.38000000e+02, 1.41421356e-01, 2.00000000e+00],\n",
       "       [1.00000000e+00, 4.50000000e+01, 1.41421356e-01, 2.00000000e+00],\n",
       "       [6.30000000e+01, 9.10000000e+01, 1.41421356e-01, 2.00000000e+00],\n",
       "       [6.50000000e+01, 7.50000000e+01, 1.41421356e-01, 2.00000000e+00],\n",
       "       [4.00000000e+01, 1.52000000e+02, 1.73205081e-01, 3.00000000e+00],\n",
       "       [1.23000000e+02, 1.26000000e+02, 1.73205081e-01, 2.00000000e+00],\n",
       "       [4.90000000e+01, 1.51000000e+02, 1.73205081e-01, 3.00000000e+00],\n",
       "       [1.12000000e+02, 1.39000000e+02, 1.73205081e-01, 2.00000000e+00],\n",
       "       [9.40000000e+01, 9.90000000e+01, 1.73205081e-01, 2.00000000e+00],\n",
       "       [1.20000000e+01, 1.68000000e+02, 1.82574186e-01, 3.00000000e+00],\n",
       "       [8.80000000e+01, 1.66000000e+02, 1.82574186e-01, 3.00000000e+00],\n",
       "       [6.60000000e+01, 8.40000000e+01, 2.00000000e-01, 2.00000000e+00],\n",
       "       [2.30000000e+01, 2.60000000e+01, 2.00000000e-01, 2.00000000e+00],\n",
       "       [5.30000000e+01, 8.90000000e+01, 2.00000000e-01, 2.00000000e+00],\n",
       "       [7.40000000e+01, 9.70000000e+01, 2.00000000e-01, 2.00000000e+00],\n",
       "       [2.50000000e+01, 1.53000000e+02, 2.08166600e-01, 3.00000000e+00],\n",
       "       [4.60000000e+01, 1.57000000e+02, 2.16024690e-01, 3.00000000e+00],\n",
       "       [2.00000000e+00, 1.63000000e+02, 2.16024690e-01, 3.00000000e+00],\n",
       "       [1.10000000e+02, 1.47000000e+02, 2.23606798e-01, 2.00000000e+00],\n",
       "       [1.20000000e+02, 1.43000000e+02, 2.23606798e-01, 2.00000000e+00],\n",
       "       [1.36000000e+02, 1.48000000e+02, 2.44948974e-01, 2.00000000e+00],\n",
       "       [7.80000000e+01, 1.69000000e+02, 2.44948974e-01, 3.00000000e+00],\n",
       "       [6.90000000e+01, 1.60000000e+02, 2.44948974e-01, 3.00000000e+00],\n",
       "       [5.40000000e+01, 5.80000000e+01, 2.44948974e-01, 2.00000000e+00],\n",
       "       [1.40000000e+02, 1.44000000e+02, 2.44948974e-01, 2.00000000e+00],\n",
       "       [1.41000000e+02, 1.45000000e+02, 2.44948974e-01, 2.00000000e+00],\n",
       "       [4.30000000e+01, 1.79000000e+02, 2.58198890e-01, 3.00000000e+00],\n",
       "       [6.80000000e+01, 8.70000000e+01, 2.64575131e-01, 2.00000000e+00],\n",
       "       [5.00000000e+01, 5.20000000e+01, 2.64575131e-01, 2.00000000e+00],\n",
       "       [5.10000000e+01, 5.60000000e+01, 2.64575131e-01, 2.00000000e+00],\n",
       "       [1.07000000e+02, 1.30000000e+02, 2.64575131e-01, 2.00000000e+00],\n",
       "       [1.05000000e+02, 1.22000000e+02, 2.64575131e-01, 2.00000000e+00],\n",
       "       [1.03000000e+02, 1.61000000e+02, 2.70801280e-01, 3.00000000e+00],\n",
       "       [1.64000000e+02, 1.71000000e+02, 2.75680975e-01, 5.00000000e+00],\n",
       "       [2.00000000e+01, 3.10000000e+01, 2.82842712e-01, 2.00000000e+00],\n",
       "       [1.10000000e+01, 1.58000000e+02, 2.94392029e-01, 3.00000000e+00],\n",
       "       [6.70000000e+01, 1.65000000e+02, 2.94392029e-01, 3.00000000e+00],\n",
       "       [7.00000000e+01, 1.67000000e+02, 2.94392029e-01, 3.00000000e+00],\n",
       "       [4.20000000e+01, 1.62000000e+02, 2.94392029e-01, 3.00000000e+00],\n",
       "       [1.13000000e+02, 1.50000000e+02, 3.05505046e-01, 3.00000000e+00],\n",
       "       [6.00000000e+00, 1.84000000e+02, 3.13581462e-01, 4.00000000e+00],\n",
       "       [1.73000000e+02, 2.00000000e+02, 3.14642654e-01, 8.00000000e+00],\n",
       "       [5.50000000e+01, 9.00000000e+01, 3.16227766e-01, 2.00000000e+00],\n",
       "       [1.76000000e+02, 1.82000000e+02, 3.16227766e-01, 6.00000000e+00],\n",
       "       [8.60000000e+01, 1.95000000e+02, 3.21455025e-01, 3.00000000e+00],\n",
       "       [1.24000000e+02, 1.86000000e+02, 3.31662479e-01, 3.00000000e+00],\n",
       "       [8.30000000e+01, 1.33000000e+02, 3.31662479e-01, 2.00000000e+00],\n",
       "       [5.00000000e+00, 1.80000000e+01, 3.31662479e-01, 2.00000000e+00],\n",
       "       [1.30000000e+01, 2.05000000e+02, 3.36650165e-01, 4.00000000e+00],\n",
       "       [1.75000000e+02, 1.77000000e+02, 3.41565026e-01, 5.00000000e+00],\n",
       "       [3.20000000e+01, 3.30000000e+01, 3.46410162e-01, 2.00000000e+00],\n",
       "       [1.25000000e+02, 1.29000000e+02, 3.46410162e-01, 2.00000000e+00],\n",
       "       [1.04000000e+02, 1.54000000e+02, 3.51188458e-01, 3.00000000e+00],\n",
       "       [7.30000000e+01, 1.88000000e+02, 3.53553391e-01, 4.00000000e+00],\n",
       "       [1.49000000e+02, 2.04000000e+02, 3.58236421e-01, 4.00000000e+00],\n",
       "       [1.46000000e+02, 1.72000000e+02, 3.60555128e-01, 3.00000000e+00],\n",
       "       [1.21000000e+02, 2.06000000e+02, 3.62859018e-01, 4.00000000e+00],\n",
       "       [3.60000000e+01, 1.55000000e+02, 3.69684550e-01, 3.00000000e+00],\n",
       "       [7.60000000e+01, 1.90000000e+02, 3.74165739e-01, 3.00000000e+00],\n",
       "       [1.15000000e+02, 1.87000000e+02, 3.74165739e-01, 3.00000000e+00],\n",
       "       [6.10000000e+01, 7.10000000e+01, 4.00000000e-01, 2.00000000e+00],\n",
       "       [1.56000000e+02, 2.08000000e+02, 4.06201920e-01, 1.00000000e+01],\n",
       "       [7.20000000e+01, 2.13000000e+02, 4.12310563e-01, 3.00000000e+00],\n",
       "       [1.17000000e+02, 1.31000000e+02, 4.12310563e-01, 2.00000000e+00],\n",
       "       [1.91000000e+02, 2.12000000e+02, 4.14728827e-01, 5.00000000e+00],\n",
       "       [2.40000000e+01, 2.02000000e+02, 4.22295315e-01, 4.00000000e+00],\n",
       "       [9.80000000e+01, 1.59000000e+02, 4.39696865e-01, 3.00000000e+00],\n",
       "       [1.60000000e+01, 2.24000000e+02, 4.39696865e-01, 4.00000000e+00],\n",
       "       [3.50000000e+01, 2.10000000e+02, 4.39696865e-01, 7.00000000e+00],\n",
       "       [6.40000000e+01, 7.90000000e+01, 4.47213595e-01, 2.00000000e+00],\n",
       "       [8.50000000e+01, 1.96000000e+02, 4.58257569e-01, 3.00000000e+00],\n",
       "       [7.70000000e+01, 1.85000000e+02, 4.65474668e-01, 3.00000000e+00],\n",
       "       [4.40000000e+01, 1.83000000e+02, 4.67261526e-01, 4.00000000e+00],\n",
       "       [1.11000000e+02, 1.99000000e+02, 4.81317636e-01, 4.00000000e+00],\n",
       "       [1.80000000e+02, 1.89000000e+02, 4.81663783e-01, 5.00000000e+00],\n",
       "       [1.02000000e+02, 2.18000000e+02, 4.89897949e-01, 3.00000000e+00],\n",
       "       [1.74000000e+02, 1.92000000e+02, 5.14781507e-01, 4.00000000e+00],\n",
       "       [1.81000000e+02, 2.27000000e+02, 5.29150262e-01, 4.00000000e+00],\n",
       "       [1.70000000e+02, 2.25000000e+02, 5.32916504e-01, 5.00000000e+00],\n",
       "       [1.18000000e+02, 1.98000000e+02, 5.38516481e-01, 3.00000000e+00],\n",
       "       [1.40000000e+01, 1.50000000e+01, 5.47722558e-01, 2.00000000e+00],\n",
       "       [1.78000000e+02, 2.09000000e+02, 5.74456265e-01, 4.00000000e+00],\n",
       "       [2.22000000e+02, 2.29000000e+02, 5.80229840e-01, 6.00000000e+00],\n",
       "       [2.01000000e+02, 2.34000000e+02, 5.94418483e-01, 6.00000000e+00],\n",
       "       [1.14000000e+02, 2.23000000e+02, 6.05805249e-01, 5.00000000e+00],\n",
       "       [6.00000000e+01, 2.33000000e+02, 6.13731755e-01, 4.00000000e+00],\n",
       "       [2.17000000e+02, 2.47000000e+02, 6.24499800e-01, 4.00000000e+00],\n",
       "       [5.90000000e+01, 2.41000000e+02, 6.30872412e-01, 6.00000000e+00],\n",
       "       [2.07000000e+02, 2.32000000e+02, 6.36396103e-01, 8.00000000e+00],\n",
       "       [1.97000000e+02, 2.42000000e+02, 6.40312424e-01, 5.00000000e+00],\n",
       "       [6.20000000e+01, 2.03000000e+02, 6.42910051e-01, 4.00000000e+00],\n",
       "       [2.14000000e+02, 2.50000000e+02, 6.62696512e-01, 8.00000000e+00],\n",
       "       [1.19000000e+02, 1.94000000e+02, 7.09459888e-01, 3.00000000e+00],\n",
       "       [1.00000000e+02, 2.26000000e+02, 7.24568837e-01, 4.00000000e+00],\n",
       "       [1.08000000e+02, 2.19000000e+02, 7.32575366e-01, 4.00000000e+00],\n",
       "       [2.16000000e+02, 2.48000000e+02, 7.34090518e-01, 9.00000000e+00],\n",
       "       [2.11000000e+02, 2.45000000e+02, 7.34960316e-01, 8.00000000e+00],\n",
       "       [2.40000000e+02, 2.61000000e+02, 7.63216876e-01, 8.00000000e+00],\n",
       "       [1.93000000e+02, 2.39000000e+02, 7.76285416e-01, 7.00000000e+00],\n",
       "       [1.09000000e+02, 1.35000000e+02, 8.06225775e-01, 2.00000000e+00],\n",
       "       [2.35000000e+02, 2.55000000e+02, 8.18738868e-01, 1.50000000e+01],\n",
       "       [2.38000000e+02, 2.43000000e+02, 8.21873585e-01, 7.00000000e+00],\n",
       "       [2.36000000e+02, 2.54000000e+02, 8.26135582e-01, 8.00000000e+00],\n",
       "       [2.20000000e+01, 2.15000000e+02, 8.55569985e-01, 5.00000000e+00],\n",
       "       [2.20000000e+02, 2.44000000e+02, 8.64580823e-01, 8.00000000e+00],\n",
       "       [2.28000000e+02, 2.65000000e+02, 9.09981993e-01, 1.70000000e+01],\n",
       "       [2.57000000e+02, 2.69000000e+02, 9.28708781e-01, 1.20000000e+01],\n",
       "       [1.34000000e+02, 2.49000000e+02, 9.29157324e-01, 7.00000000e+00],\n",
       "       [2.21000000e+02, 2.37000000e+02, 1.00534287e+00, 7.00000000e+00],\n",
       "       [2.31000000e+02, 2.60000000e+02, 1.04705937e+00, 9.00000000e+00],\n",
       "       [4.10000000e+01, 2.70000000e+02, 1.10513951e+00, 6.00000000e+00],\n",
       "       [2.30000000e+02, 2.66000000e+02, 1.15325626e+00, 4.00000000e+00],\n",
       "       [1.06000000e+02, 2.62000000e+02, 1.21700908e+00, 1.00000000e+01],\n",
       "       [2.53000000e+02, 2.58000000e+02, 1.25399362e+00, 1.20000000e+01],\n",
       "       [2.59000000e+02, 2.74000000e+02, 1.30486270e+00, 1.00000000e+01],\n",
       "       [2.67000000e+02, 2.77000000e+02, 1.37126983e+00, 2.10000000e+01],\n",
       "       [2.64000000e+02, 2.68000000e+02, 1.41139074e+00, 1.50000000e+01],\n",
       "       [2.71000000e+02, 2.75000000e+02, 1.49547731e+00, 1.50000000e+01],\n",
       "       [2.46000000e+02, 2.78000000e+02, 1.59776630e+00, 7.00000000e+00],\n",
       "       [2.51000000e+02, 2.81000000e+02, 1.75916647e+00, 1.50000000e+01],\n",
       "       [2.76000000e+02, 2.83000000e+02, 1.76044502e+00, 2.40000000e+01],\n",
       "       [2.56000000e+02, 2.85000000e+02, 1.84584475e+00, 1.20000000e+01],\n",
       "       [2.73000000e+02, 2.79000000e+02, 1.91608028e+00, 2.20000000e+01],\n",
       "       [2.72000000e+02, 2.80000000e+02, 1.91875287e+00, 2.90000000e+01],\n",
       "       [2.63000000e+02, 2.84000000e+02, 2.05363058e+00, 2.30000000e+01],\n",
       "       [2.52000000e+02, 2.89000000e+02, 2.81393883e+00, 2.60000000e+01],\n",
       "       [2.86000000e+02, 2.91000000e+02, 2.86941764e+00, 3.80000000e+01],\n",
       "       [2.82000000e+02, 2.90000000e+02, 3.82805262e+00, 5.00000000e+01],\n",
       "       [2.87000000e+02, 2.88000000e+02, 4.84770851e+00, 3.60000000e+01],\n",
       "       [2.92000000e+02, 2.93000000e+02, 6.39940682e+00, 6.40000000e+01],\n",
       "       [2.95000000e+02, 2.96000000e+02, 1.23003961e+01, 1.00000000e+02],\n",
       "       [2.94000000e+02, 2.97000000e+02, 3.24476070e+01, 1.50000000e+02]])"
      ]
     },
     "execution_count": 13,
     "metadata": {},
     "output_type": "execute_result"
    }
   ],
   "source": [
    "linkage_matrix = linkage(X, method='ward')\n",
    "linkage_matrix"
   ]
  },
  {
   "cell_type": "markdown",
   "id": "df27f19d",
   "metadata": {},
   "source": [
    "# Plot the dendrogram"
   ]
  },
  {
   "cell_type": "code",
   "execution_count": 14,
   "id": "9c3b7c37",
   "metadata": {},
   "outputs": [
    {
     "data": {
      "image/png": "[encoded data removed]",
      "text/plain": [
       "<Figure size 864x432 with 1 Axes>"
      ]
     },
     "metadata": {
      "needs_background": "light"
     },
     "output_type": "display_data"
    }
   ],
   "source": [
    "plt.figure(figsize=(12, 6))\n",
    "dendrogram(linkage_matrix, p=5, truncate_mode='level', orientation='top', labels=iris_df.index.tolist())\n",
    "plt.title('Hierarchical Clustering Dendrogram')\n",
    "plt.xlabel('Sample Index')\n",
    "plt.ylabel('Distance')\n",
    "plt.show()"
   ]
  },
  {
   "cell_type": "code",
   "execution_count": 15,
   "id": "071dd66c",
   "metadata": {},
   "outputs": [],
   "source": [
    "# Add cluster labels to the DataFrame\n",
    "iris_df['cluster_labels'] = agg_cluster.labels_"
   ]
  },
  {
   "cell_type": "markdown",
   "id": "f3b14e04",
   "metadata": {},
   "source": [
    "# Plot the data points with color-coded clusters"
   ]
  },
  {
   "cell_type": "code",
   "execution_count": 16,
   "id": "38a616e8",
   "metadata": {},
   "outputs": [
    {
     "data": {
      "image/png": "[encoded data removed]",
      "text/plain": [
       "<Figure size 432x288 with 1 Axes>"
      ]
     },
     "metadata": {
      "needs_background": "light"
     },
     "output_type": "display_data"
    }
   ],
   "source": [
    "plt.scatter(iris_df['sepal length (cm)'], iris_df['sepal width (cm)'], c=iris_df['cluster_labels'], cmap='rainbow')\n",
    "plt.xlabel('Sepal Length (cm)')\n",
    "plt.ylabel('Sepal Width (cm)')\n",
    "plt.title('Agglomerative Hierarchical Clustering')\n",
    "plt.show()"
   ]
  },
  {
   "cell_type": "code",
   "execution_count": null,
   "id": "79317ac7",
   "metadata": {},
   "outputs": [],
   "source": []
  }
 ],
 "metadata": {
  "kernelspec": {
   "display_name": "Python 3",
   "language": "python",
   "name": "python3"
  },
  "language_info": {
   "codemirror_mode": {
    "name": "ipython",
    "version": 3
   },
   "file_extension": ".py",
   "mimetype": "text/x-python",
   "name": "python",
   "nbconvert_exporter": "python",
   "pygments_lexer": "ipython3",
   "version": "3.8.8"
  }
 },
 "nbformat": 4,
 "nbformat_minor": 5
}
